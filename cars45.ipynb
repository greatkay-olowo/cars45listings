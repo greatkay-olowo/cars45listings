{
  "nbformat": 4,
  "nbformat_minor": 0,
  "metadata": {
    "colab": {
      "name": "cars45.ipynb",
      "provenance": [],
      "collapsed_sections": [],
      "authorship_tag": "ABX9TyNrTMM7P839Z+nq5Xn2BFzL",
      "include_colab_link": true
    },
    "kernelspec": {
      "name": "python3",
      "display_name": "Python 3"
    }
  },
  "cells": [
    {
      "cell_type": "markdown",
      "metadata": {
        "id": "view-in-github",
        "colab_type": "text"
      },
      "source": [
        "<a href=\"https://colab.research.google.com/github/greatkay-olowo/cars45listings/blob/main/cars45.ipynb\" target=\"_parent\"><img src=\"https://colab.research.google.com/assets/colab-badge.svg\" alt=\"Open In Colab\"/></a>"
      ]
    },
    {
      "cell_type": "code",
      "metadata": {
        "id": "1yQz36v3SHGM"
      },
      "source": [
        "import pandas as pd    \r\n",
        "import json\r\n",
        "import requests\r\n",
        "from bs4 import BeautifulSoup\r\n",
        "\r\n",
        "\r\n"
      ],
      "execution_count": 1,
      "outputs": []
    },
    {
      "cell_type": "code",
      "metadata": {
        "id": "5sL9Et2Pa-HD"
      },
      "source": [
        "def scrape(car_info):\r\n",
        "  \r\n",
        "  if(car_info == []):\r\n",
        "    return\r\n",
        "\r\n",
        "  cars_gotten_from_scrape = []\r\n",
        "\r\n",
        "  car_info = soup.find_all('figcaption')\r\n",
        "\r\n",
        "  for car in car_info:\r\n",
        "    # car name and year - year car_name\r\n",
        "    car_name_tag = car.find('h4').contents[0]\r\n",
        "\r\n",
        "    # car price\r\n",
        "    price = car.find(attrs={'class': 'price'}).contents[0]\r\n",
        "\r\n",
        "    # car condition\r\n",
        "    car_condition_array = car.find_all('p', attrs={'class': 'd-block d-sm-none'})\r\n",
        "\r\n",
        "    for car in car_condition_array:\r\n",
        "      all_car_condition = car.find_all('button', attrs={'class': 'btn btn-secondary border-circle mt-2'})\r\n",
        "\r\n",
        "      for car_condition in all_car_condition:\r\n",
        "        if car_condition != None:\r\n",
        "          year = car_name_tag[0:4]\r\n",
        "          name = car_name_tag[5:]\r\n",
        "\r\n",
        "          # format data structure\r\n",
        "          car =  {\r\n",
        "              \"name\": name.rstrip(),\r\n",
        "              \"year\": year,\r\n",
        "              \"car_condition\": car_condition.text.rstrip(),\r\n",
        "              \"price\": price.rstrip()\r\n",
        "            }\r\n",
        "\r\n",
        "          # add cars info to the bucket\r\n",
        "          cars_gotten_from_scrape.append(car)\r\n",
        "  return cars_gotten_from_scrape"
      ],
      "execution_count": 4,
      "outputs": []
    },
    {
      "cell_type": "code",
      "metadata": {
        "id": "BaAJjDIRSOwR"
      },
      "source": [
        "data = []\r\n",
        "\r\n",
        "for i in range(100):\r\n",
        "\r\n",
        "  url = \"https://buy.cars45.com/cars?limit=100&page=\" + str(i) \r\n",
        "\r\n",
        "  response = requests.get(url)\r\n",
        "\r\n",
        "  soup = BeautifulSoup(response.text, 'html.parser')\r\n",
        "\r\n",
        "  car_info = soup.find_all('figcaption')\r\n",
        "\r\n",
        "  if (car_info == []):\r\n",
        "    break\r\n",
        "\r\n",
        "  returned_car_info = scrape(car_info)\r\n",
        "\r\n",
        "  data.append(returned_car_info)"
      ],
      "execution_count": 5,
      "outputs": []
    },
    {
      "cell_type": "code",
      "metadata": {
        "id": "RmWHGCu5SjhU"
      },
      "source": [
        "x = []\r\n",
        "\r\n",
        "for i in data:\r\n",
        "  for j in i:\r\n",
        "   x.append(j)\r\n",
        "\r\n",
        "cars_data = {'cars': x}"
      ],
      "execution_count": 6,
      "outputs": []
    },
    {
      "cell_type": "code",
      "metadata": {
        "id": "K4wjptikQ3vz"
      },
      "source": [
        "with open('cars_data.json', 'w') as fp:\r\n",
        "    json.dump(cars_data, fp)"
      ],
      "execution_count": 11,
      "outputs": []
    },
    {
      "cell_type": "code",
      "metadata": {
        "id": "6nCKJU8YW8Ko"
      },
      "source": [
        "df=pd.DataFrame(columns=['name','year','car_condition','price'])"
      ],
      "execution_count": 8,
      "outputs": []
    },
    {
      "cell_type": "code",
      "metadata": {
        "id": "haod3w83XDmo"
      },
      "source": [
        "a=0\r\n",
        "for i in cars_data['cars']:\r\n",
        "  df.loc[a,'name']=i['name']\r\n",
        "  df.loc[a,'year']=i['year']\r\n",
        "  df.loc[a,'car_condition']=i['car_condition']\r\n",
        "  df.loc[a,'price']=i['price']\r\n",
        "  a+=1"
      ],
      "execution_count": 9,
      "outputs": []
    },
    {
      "cell_type": "code",
      "metadata": {
        "id": "9g0vYyVuYHFS"
      },
      "source": [
        "df.shape\r\n",
        "df.to_csv('cars_data.csv',index=False)"
      ],
      "execution_count": null,
      "outputs": []
    },
    {
      "cell_type": "code",
      "metadata": {
        "colab": {
          "base_uri": "https://localhost:8080/",
          "height": 419
        },
        "id": "2oiysY7sfyA2",
        "outputId": "0b010c4b-8a11-4175-9663-dc675aa9706a"
      },
      "source": [
        "df"
      ],
      "execution_count": 10,
      "outputs": [
        {
          "output_type": "execute_result",
          "data": {
            "text/html": [
              "<div>\n",
              "<style scoped>\n",
              "    .dataframe tbody tr th:only-of-type {\n",
              "        vertical-align: middle;\n",
              "    }\n",
              "\n",
              "    .dataframe tbody tr th {\n",
              "        vertical-align: top;\n",
              "    }\n",
              "\n",
              "    .dataframe thead th {\n",
              "        text-align: right;\n",
              "    }\n",
              "</style>\n",
              "<table border=\"1\" class=\"dataframe\">\n",
              "  <thead>\n",
              "    <tr style=\"text-align: right;\">\n",
              "      <th></th>\n",
              "      <th>name</th>\n",
              "      <th>year</th>\n",
              "      <th>car_condition</th>\n",
              "      <th>price</th>\n",
              "    </tr>\n",
              "  </thead>\n",
              "  <tbody>\n",
              "    <tr>\n",
              "      <th>0</th>\n",
              "      <td>Mercedes-Benz C300</td>\n",
              "      <td>2011</td>\n",
              "      <td>Nigerian Used</td>\n",
              "      <td>₦ 5,050,000</td>\n",
              "    </tr>\n",
              "    <tr>\n",
              "      <th>1</th>\n",
              "      <td>Ford Mustang</td>\n",
              "      <td>2000</td>\n",
              "      <td>Nigerian Used</td>\n",
              "      <td>₦ 906,000</td>\n",
              "    </tr>\n",
              "    <tr>\n",
              "      <th>2</th>\n",
              "      <td>Nissan Almera</td>\n",
              "      <td>2000</td>\n",
              "      <td>Nigerian Used</td>\n",
              "      <td>₦ 682,000</td>\n",
              "    </tr>\n",
              "    <tr>\n",
              "      <th>3</th>\n",
              "      <td>Hyundai Elantra</td>\n",
              "      <td>2008</td>\n",
              "      <td>Nigerian Used</td>\n",
              "      <td>₦ 794,000</td>\n",
              "    </tr>\n",
              "    <tr>\n",
              "      <th>4</th>\n",
              "      <td>Honda Accord</td>\n",
              "      <td>2009</td>\n",
              "      <td>Nigerian Used</td>\n",
              "      <td>₦ 1,690,000</td>\n",
              "    </tr>\n",
              "    <tr>\n",
              "      <th>...</th>\n",
              "      <td>...</td>\n",
              "      <td>...</td>\n",
              "      <td>...</td>\n",
              "      <td>...</td>\n",
              "    </tr>\n",
              "    <tr>\n",
              "      <th>2977</th>\n",
              "      <td>Mercedes-Benz C300</td>\n",
              "      <td>2016</td>\n",
              "      <td>Nigerian Used</td>\n",
              "      <td>₦ 9,893,906</td>\n",
              "    </tr>\n",
              "    <tr>\n",
              "      <th>2978</th>\n",
              "      <td>Toyota Camry</td>\n",
              "      <td>2011</td>\n",
              "      <td></td>\n",
              "      <td>₦ 2,974,400</td>\n",
              "    </tr>\n",
              "    <tr>\n",
              "      <th>2979</th>\n",
              "      <td>Kia Sorento</td>\n",
              "      <td>2012</td>\n",
              "      <td></td>\n",
              "      <td>₦ 2,515,000</td>\n",
              "    </tr>\n",
              "    <tr>\n",
              "      <th>2980</th>\n",
              "      <td>Lexus ES</td>\n",
              "      <td>2007</td>\n",
              "      <td></td>\n",
              "      <td>₦ 2,140,000</td>\n",
              "    </tr>\n",
              "    <tr>\n",
              "      <th>2981</th>\n",
              "      <td>Mercedes-Benz Ml350</td>\n",
              "      <td>2006</td>\n",
              "      <td></td>\n",
              "      <td>₦ 1,890,000</td>\n",
              "    </tr>\n",
              "  </tbody>\n",
              "</table>\n",
              "<p>2982 rows × 4 columns</p>\n",
              "</div>"
            ],
            "text/plain": [
              "                     name  year  car_condition        price\n",
              "0      Mercedes-Benz C300  2011  Nigerian Used  ₦ 5,050,000\n",
              "1            Ford Mustang  2000  Nigerian Used    ₦ 906,000\n",
              "2           Nissan Almera  2000  Nigerian Used    ₦ 682,000\n",
              "3         Hyundai Elantra  2008  Nigerian Used    ₦ 794,000\n",
              "4            Honda Accord  2009  Nigerian Used  ₦ 1,690,000\n",
              "...                   ...   ...            ...          ...\n",
              "2977   Mercedes-Benz C300  2016  Nigerian Used  ₦ 9,893,906\n",
              "2978         Toyota Camry  2011                 ₦ 2,974,400\n",
              "2979          Kia Sorento  2012                 ₦ 2,515,000\n",
              "2980             Lexus ES  2007                 ₦ 2,140,000\n",
              "2981  Mercedes-Benz Ml350  2006                 ₦ 1,890,000\n",
              "\n",
              "[2982 rows x 4 columns]"
            ]
          },
          "metadata": {
            "tags": []
          },
          "execution_count": 10
        }
      ]
    }
  ]
}